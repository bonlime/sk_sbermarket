{
 "cells": [
  {
   "cell_type": "code",
   "execution_count": 1,
   "metadata": {
    "ExecuteTime": {
     "end_time": "2020-10-10T14:29:35.028111Z",
     "start_time": "2020-10-10T14:29:34.127673Z"
    }
   },
   "outputs": [],
   "source": [
    "import numpy as np # linear algebra\n",
    "import pandas as pd # data processing, CSV file I/O (e.g. pd.read_csv)\n",
    "from tqdm import tqdm_notebook as tqdm\n",
    "\n",
    "from scipy.sparse.linalg import svds\n",
    "from scipy.sparse import csr_matrix"
   ]
  },
  {
   "cell_type": "code",
   "execution_count": 2,
   "metadata": {
    "ExecuteTime": {
     "end_time": "2020-10-10T14:29:45.051774Z",
     "start_time": "2020-10-10T14:29:36.652053Z"
    }
   },
   "outputs": [],
   "source": [
    "files_dir = 'data/'\n",
    "\n",
    "orders = pd.read_csv(files_dir + 'kaggle_tab_1345/tab_1_orders.csv')\n",
    "users = pd.read_csv(files_dir + 'kaggle_tab_1345/tab_4_user_profiles.csv')\n",
    "product_properties = pd.read_csv(files_dir + 'kaggle_tab_1345/tab_5_product_properties.csv')\n",
    "categories = pd.read_csv(files_dir + 'kaggle_tab_1345/tab_3_categories.csv')\n",
    "submission = pd.read_csv(files_dir + 'sample_submission.csv')\n",
    "cities = pd.read_csv(files_dir + 'tab_6_city.csv')"
   ]
  },
  {
   "cell_type": "code",
   "execution_count": 4,
   "metadata": {
    "ExecuteTime": {
     "end_time": "2020-10-10T14:30:16.860413Z",
     "start_time": "2020-10-10T14:29:45.078489Z"
    }
   },
   "outputs": [],
   "source": [
    "data = pd.read_csv(files_dir + 'merged_data.csv')"
   ]
  },
  {
   "cell_type": "code",
   "execution_count": 5,
   "metadata": {
    "ExecuteTime": {
     "end_time": "2020-10-10T14:30:17.890584Z",
     "start_time": "2020-10-10T14:30:16.864909Z"
    }
   },
   "outputs": [],
   "source": [
    "order_id2retailer = dict(zip(orders.order_id.values, orders.retailer.values))"
   ]
  },
  {
   "cell_type": "code",
   "execution_count": 6,
   "metadata": {
    "ExecuteTime": {
     "end_time": "2020-10-10T14:30:18.787411Z",
     "start_time": "2020-10-10T14:30:17.892941Z"
    }
   },
   "outputs": [],
   "source": [
    "top_retailers = set(orders.retailer.value_counts()[:13].keys())\n",
    "\n",
    "retailer2item_to_id = {}\n",
    "retailer2id_to_item = {}\n",
    "retailer2user_to_id = {}\n",
    "retailer2id_to_user = {}\n",
    "retailer2cf_matrix = {}\n",
    "\n",
    "for retailer in top_retailers:\n",
    "    retailer2item_to_id[retailer] = {}\n",
    "    retailer2id_to_item[retailer] = {}\n",
    "    retailer2user_to_id[retailer] = {}\n",
    "    retailer2id_to_user[retailer] = {}\n",
    "    retailer2cf_matrix[retailer] = np.zeros((len(users), product_properties.product_id.nunique()))"
   ]
  },
  {
   "cell_type": "code",
   "execution_count": 9,
   "metadata": {
    "ExecuteTime": {
     "end_time": "2020-10-10T15:03:43.346321Z",
     "start_time": "2020-10-10T14:30:22.268581Z"
    }
   },
   "outputs": [
    {
     "name": "stderr",
     "output_type": "stream",
     "text": [
      "/usr/local/lib/python3.6/dist-packages/ipykernel_launcher.py:1: TqdmDeprecationWarning: This function will be removed in tqdm==5.0.0\n",
      "Please use `tqdm.notebook.tqdm` instead of `tqdm.tqdm_notebook`\n",
      "  \"\"\"Entry point for launching an IPython kernel.\n"
     ]
    },
    {
     "data": {
      "application/vnd.jupyter.widget-view+json": {
       "model_id": "f135194cfba74195ac8f7fcc48f84b7d",
       "version_major": 2,
       "version_minor": 0
      },
      "text/plain": [
       "HBox(children=(FloatProgress(value=1.0, bar_style='info', layout=Layout(width='20px'), max=1.0), HTML(value=''…"
      ]
     },
     "metadata": {},
     "output_type": "display_data"
    },
    {
     "name": "stdout",
     "output_type": "stream",
     "text": [
      "\n"
     ]
    }
   ],
   "source": [
    "for i, row in tqdm(data[np.isin(data.order_id.values, list(order_id2retailer.keys()))].iterrows()):\n",
    "    order_id = row['order_id']\n",
    "\n",
    "    user_id = row['user_id']\n",
    "    item_id = row['product_id']\n",
    "    \n",
    "    retailer = order_id2retailer[order_id]\n",
    "        \n",
    "    if retailer not in top_retailers:\n",
    "        continue\n",
    "    \n",
    "    if user_id not in retailer2user_to_id[retailer]:\n",
    "        id = len(retailer2user_to_id[retailer])\n",
    "        retailer2user_to_id[retailer][user_id] = id\n",
    "        retailer2id_to_user[retailer][id] = user_id\n",
    "    \n",
    "    uid = retailer2user_to_id[retailer][user_id]\n",
    "\n",
    "    if item_id not in retailer2item_to_id[retailer]:\n",
    "        id = len(retailer2item_to_id[retailer])\n",
    "        retailer2item_to_id[retailer][item_id] = id\n",
    "        retailer2id_to_item[retailer][id] = item_id\n",
    "\n",
    "    iid = retailer2item_to_id[retailer][item_id]\n",
    "\n",
    "    retailer2cf_matrix[retailer][uid][iid] = 1"
   ]
  },
  {
   "cell_type": "code",
   "execution_count": 35,
   "metadata": {
    "ExecuteTime": {
     "end_time": "2020-10-10T15:19:53.553165Z",
     "start_time": "2020-10-10T15:19:53.550139Z"
    }
   },
   "outputs": [],
   "source": [
    "for retailer in top_retailers:\n",
    "    n_users = len(retailer2user_to_id[retailer])\n",
    "    n_items = len(retailer2item_to_id[retailer])\n",
    "    retailer2cf_matrix[retailer] = retailer2cf_matrix[retailer][:n_users, :n_items]"
   ]
  },
  {
   "cell_type": "code",
   "execution_count": 28,
   "metadata": {
    "ExecuteTime": {
     "end_time": "2020-10-10T15:17:22.985267Z",
     "start_time": "2020-10-10T15:17:22.982693Z"
    }
   },
   "outputs": [],
   "source": [
    "retailer2svd = {}"
   ]
  },
  {
   "cell_type": "code",
   "execution_count": 36,
   "metadata": {
    "ExecuteTime": {
     "end_time": "2020-10-10T16:13:09.447820Z",
     "start_time": "2020-10-10T15:20:01.443317Z"
    }
   },
   "outputs": [
    {
     "name": "stderr",
     "output_type": "stream",
     "text": [
      "/usr/local/lib/python3.6/dist-packages/ipykernel_launcher.py:1: TqdmDeprecationWarning: This function will be removed in tqdm==5.0.0\n",
      "Please use `tqdm.notebook.tqdm` instead of `tqdm.tqdm_notebook`\n",
      "  \"\"\"Entry point for launching an IPython kernel.\n"
     ]
    },
    {
     "data": {
      "application/vnd.jupyter.widget-view+json": {
       "model_id": "96e6a08f25ac4ecca62d7cfc55803d7a",
       "version_major": 2,
       "version_minor": 0
      },
      "text/plain": [
       "HBox(children=(FloatProgress(value=0.0, max=13.0), HTML(value='')))"
      ]
     },
     "metadata": {},
     "output_type": "display_data"
    },
    {
     "name": "stdout",
     "output_type": "stream",
     "text": [
      "\n"
     ]
    }
   ],
   "source": [
    "for retailer in tqdm(top_retailers):\n",
    "    retailer2cf_matrix[retailer] = csr_matrix(retailer2cf_matrix[retailer])\n",
    "    U, sigma, Vt = svds(retailer2cf_matrix[retailer], k=int(retailer2cf_matrix[retailer].shape[0] / 30))\n",
    "    retailer2svd[retailer] = (U, sigma, Vt)"
   ]
  },
  {
   "cell_type": "code",
   "execution_count": 119,
   "metadata": {
    "ExecuteTime": {
     "end_time": "2020-10-10T18:05:53.959873Z",
     "start_time": "2020-10-10T18:05:34.148614Z"
    }
   },
   "outputs": [
    {
     "name": "stderr",
     "output_type": "stream",
     "text": [
      "/usr/local/lib/python3.6/dist-packages/ipykernel_launcher.py:1: TqdmDeprecationWarning: This function will be removed in tqdm==5.0.0\n",
      "Please use `tqdm.notebook.tqdm` instead of `tqdm.tqdm_notebook`\n",
      "  \"\"\"Entry point for launching an IPython kernel.\n"
     ]
    },
    {
     "data": {
      "application/vnd.jupyter.widget-view+json": {
       "model_id": "e9287317cb884ed4b704177a35841cb1",
       "version_major": 2,
       "version_minor": 0
      },
      "text/plain": [
       "HBox(children=(FloatProgress(value=0.0, max=13.0), HTML(value='')))"
      ]
     },
     "metadata": {},
     "output_type": "display_data"
    },
    {
     "name": "stdout",
     "output_type": "stream",
     "text": [
      "\n"
     ]
    }
   ],
   "source": [
    "for retailer in tqdm(top_retailers):\n",
    "    retailer2cf_matrix[retailer] = retailer2cf_matrix[retailer].toarray()"
   ]
  },
  {
   "cell_type": "code",
   "execution_count": 62,
   "metadata": {
    "ExecuteTime": {
     "end_time": "2020-10-10T17:50:07.424747Z",
     "start_time": "2020-10-10T17:30:03.058037Z"
    }
   },
   "outputs": [
    {
     "name": "stderr",
     "output_type": "stream",
     "text": [
      "/usr/local/lib/python3.6/dist-packages/ipykernel_launcher.py:1: TqdmDeprecationWarning: This function will be removed in tqdm==5.0.0\n",
      "Please use `tqdm.notebook.tqdm` instead of `tqdm.tqdm_notebook`\n",
      "  \"\"\"Entry point for launching an IPython kernel.\n"
     ]
    },
    {
     "data": {
      "application/vnd.jupyter.widget-view+json": {
       "model_id": "eb200d9c4ea1471db9392becc687c4cb",
       "version_major": 2,
       "version_minor": 0
      },
      "text/plain": [
       "HBox(children=(FloatProgress(value=0.0, max=13.0), HTML(value='')))"
      ]
     },
     "metadata": {},
     "output_type": "display_data"
    },
    {
     "name": "stdout",
     "output_type": "stream",
     "text": [
      "\n"
     ]
    }
   ],
   "source": [
    "for retailer in tqdm(top_retailers):\n",
    "    U, sigma, Vt = retailer2svd[retailer]\n",
    "    retailer2svd[retailer] = np.dot(np.dot(U, np.diag(sigma)), Vt)"
   ]
  },
  {
   "cell_type": "code",
   "execution_count": 123,
   "metadata": {
    "ExecuteTime": {
     "end_time": "2020-10-10T18:06:31.824157Z",
     "start_time": "2020-10-10T18:06:31.008162Z"
    }
   },
   "outputs": [],
   "source": [
    "submission = pd.read_csv('data/sample_submission.csv')\n",
    "emils_submission = pd.read_csv('subm_most_popular_per_user_plus_fill.csv')\n",
    "my_submission = submission.copy()"
   ]
  },
  {
   "cell_type": "code",
   "execution_count": 137,
   "metadata": {
    "ExecuteTime": {
     "end_time": "2020-10-10T19:14:35.556090Z",
     "start_time": "2020-10-10T18:49:07.257021Z"
    }
   },
   "outputs": [
    {
     "name": "stderr",
     "output_type": "stream",
     "text": [
      "/usr/local/lib/python3.6/dist-packages/ipykernel_launcher.py:1: TqdmDeprecationWarning: This function will be removed in tqdm==5.0.0\n",
      "Please use `tqdm.notebook.tqdm` instead of `tqdm.tqdm_notebook`\n",
      "  \"\"\"Entry point for launching an IPython kernel.\n"
     ]
    },
    {
     "data": {
      "application/vnd.jupyter.widget-view+json": {
       "model_id": "122ff2ab851c4305bc9484c32a4b358d",
       "version_major": 2,
       "version_minor": 0
      },
      "text/plain": [
       "HBox(children=(FloatProgress(value=1.0, bar_style='info', layout=Layout(width='20px'), max=1.0), HTML(value=''…"
      ]
     },
     "metadata": {},
     "output_type": "display_data"
    },
    {
     "name": "stdout",
     "output_type": "stream",
     "text": [
      "\n"
     ]
    }
   ],
   "source": [
    "for i, user_id in tqdm(enumerate(submission.Id)):\n",
    "    orders_by_user = orders[orders.user_id == user_id]\n",
    "    emils_prediction = list(map(int, emils_submission[emils_submission.id == user_id]['Predicted'].values[0].split(' ')))\n",
    "    \n",
    "    if len(orders_by_user) == 0:\n",
    "        continue\n",
    "        my_submission.iloc[i, 1] = ' '.join(map(str, emils_prediction))\n",
    "    else:\n",
    "        retailer_counts = orders_by_user.retailer.value_counts()\n",
    "        top_retailer, top_retailer_count = next(retailer_counts.items())\n",
    "        if top_retailer != 'METRO':\n",
    "            my_submission.iloc[i, 1] = ' '.join(map(str, emils_prediction))\n",
    "            continue\n",
    "        top_retailer_percentage = top_retailer_count / len(orders_by_user)\n",
    "        \n",
    "        preds = emils_prediction[:40]\n",
    "        \n",
    "        if top_retailer_percentage > 0.5:\n",
    "            if top_retailer in top_retailers:\n",
    "                if user_id in retailer2user_to_id[top_retailer]:\n",
    "                    uid = retailer2user_to_id[top_retailer][user_id]\n",
    "                    items_ratings = retailer2svd[top_retailer][uid]\n",
    "                    items_indices_sorted = np.argsort(items_ratings)[::-1]\n",
    "                    users_items = retailer2cf_matrix[retailer][uid]\n",
    "\n",
    "                    items_added = 0\n",
    "                    ind = 0\n",
    "                    while items_added < 10:\n",
    "                        iid = items_indices_sorted[ind]\n",
    "                        if users_items[iid] == 0:\n",
    "                            preds.append(retailer2id_to_item[retailer][iid])\n",
    "                            items_added += 1\n",
    "                        ind += 1\n",
    "\n",
    "                    my_submission.iloc[i, 1] = ' '.join(map(str, preds))\n",
    "                    continue\n",
    "        \n",
    "        preds.extend(emils_prediction[40:])\n",
    "        my_submission.iloc[i, 1] = ' '.join(map(str, preds))"
   ]
  },
  {
   "cell_type": "code",
   "execution_count": 138,
   "metadata": {
    "ExecuteTime": {
     "end_time": "2020-10-10T19:14:40.661843Z",
     "start_time": "2020-10-10T19:14:40.104778Z"
    }
   },
   "outputs": [],
   "source": [
    "my_submission.to_csv('emils_with_10cf.csv', index=False)"
   ]
  }
 ],
 "metadata": {
  "kernelspec": {
   "display_name": "Python 3",
   "language": "python",
   "name": "python3"
  },
  "language_info": {
   "codemirror_mode": {
    "name": "ipython",
    "version": 3
   },
   "file_extension": ".py",
   "mimetype": "text/x-python",
   "name": "python",
   "nbconvert_exporter": "python",
   "pygments_lexer": "ipython3",
   "version": "3.6.9"
  }
 },
 "nbformat": 4,
 "nbformat_minor": 2
}
